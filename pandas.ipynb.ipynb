{
 "cells": [
  {
   "cell_type": "code",
   "execution_count": 3,
   "id": "4930e17f",
   "metadata": {},
   "outputs": [
    {
     "name": "stdout",
     "output_type": "stream",
     "text": [
      "{'Name': ('Sejal', 'Ojal', 'Saachi', 'Sakshi', 'Darshi', 'Prachi', 'Nikhil', 'Neha', 'Nishant', 'Renuka'), 'Marks': (50, 54, 60, 45, 69, 78, 67, 54, 33, 67), 'City': ('Thane', 'Jalgaon', 'Karjat', 'Solapur', 'Nashik', 'Nagpur', 'Mumbai', 'Alibaugh', 'Surat', 'Ahemdabad')}\n"
     ]
    }
   ],
   "source": [
    "dict1 ={\"Name\": (\"Sejal\" , \"Ojal\" ,  \"Saachi\" , \"Sakshi\",\"Darshi\" , \"Prachi\" , \"Nikhil\" , \"Neha\", \"Nishant\" , \"Renuka\" ),\n",
    "        \"Marks\":(50,54,60,45,69,78,67,54,33,67),\n",
    "        \"City\":(\"Thane\" , \"Jalgaon\" , \"Karjat\",\"Solapur\",\"Nashik\",\"Nagpur\",\"Mumbai\",\"Alibaugh\",\"Surat\",\"Ahemdabad\")\n",
    "\n",
    "}\n",
    "print(dict1)"
   ]
  },
  {
   "cell_type": "code",
   "execution_count": 4,
   "id": "2b263af4",
   "metadata": {},
   "outputs": [],
   "source": [
    "import pandas as pd"
   ]
  },
  {
   "cell_type": "code",
   "execution_count": 5,
   "id": "8f73a0a8",
   "metadata": {},
   "outputs": [],
   "source": [
    "df=pd.DataFrame(dict1)"
   ]
  },
  {
   "cell_type": "code",
   "execution_count": 6,
   "id": "5e5f68b7",
   "metadata": {},
   "outputs": [],
   "source": [
    "df.to_csv(\"ten.csv\")"
   ]
  },
  {
   "cell_type": "code",
   "execution_count": 7,
   "id": "4c1fc326",
   "metadata": {},
   "outputs": [
    {
     "name": "stdout",
     "output_type": "stream",
     "text": [
      "      Name  Marks       City\n",
      "0    Sejal     50      Thane\n",
      "1     Ojal     54    Jalgaon\n",
      "2   Saachi     60     Karjat\n",
      "3   Sakshi     45    Solapur\n",
      "4   Darshi     69     Nashik\n",
      "5   Prachi     78     Nagpur\n",
      "6   Nikhil     67     Mumbai\n",
      "7     Neha     54   Alibaugh\n",
      "8  Nishant     33      Surat\n",
      "9   Renuka     67  Ahemdabad\n"
     ]
    }
   ],
   "source": [
    "print(df)"
   ]
  },
  {
   "cell_type": "code",
   "execution_count": 8,
   "id": "4e9a6961",
   "metadata": {},
   "outputs": [
    {
     "data": {
      "text/html": [
       "<div>\n",
       "<style scoped>\n",
       "    .dataframe tbody tr th:only-of-type {\n",
       "        vertical-align: middle;\n",
       "    }\n",
       "\n",
       "    .dataframe tbody tr th {\n",
       "        vertical-align: top;\n",
       "    }\n",
       "\n",
       "    .dataframe thead th {\n",
       "        text-align: right;\n",
       "    }\n",
       "</style>\n",
       "<table border=\"1\" class=\"dataframe\">\n",
       "  <thead>\n",
       "    <tr style=\"text-align: right;\">\n",
       "      <th></th>\n",
       "      <th>Marks</th>\n",
       "    </tr>\n",
       "  </thead>\n",
       "  <tbody>\n",
       "    <tr>\n",
       "      <th>count</th>\n",
       "      <td>10.000000</td>\n",
       "    </tr>\n",
       "    <tr>\n",
       "      <th>mean</th>\n",
       "      <td>57.700000</td>\n",
       "    </tr>\n",
       "    <tr>\n",
       "      <th>std</th>\n",
       "      <td>13.233375</td>\n",
       "    </tr>\n",
       "    <tr>\n",
       "      <th>min</th>\n",
       "      <td>33.000000</td>\n",
       "    </tr>\n",
       "    <tr>\n",
       "      <th>25%</th>\n",
       "      <td>51.000000</td>\n",
       "    </tr>\n",
       "    <tr>\n",
       "      <th>50%</th>\n",
       "      <td>57.000000</td>\n",
       "    </tr>\n",
       "    <tr>\n",
       "      <th>75%</th>\n",
       "      <td>67.000000</td>\n",
       "    </tr>\n",
       "    <tr>\n",
       "      <th>max</th>\n",
       "      <td>78.000000</td>\n",
       "    </tr>\n",
       "  </tbody>\n",
       "</table>\n",
       "</div>"
      ],
      "text/plain": [
       "           Marks\n",
       "count  10.000000\n",
       "mean   57.700000\n",
       "std    13.233375\n",
       "min    33.000000\n",
       "25%    51.000000\n",
       "50%    57.000000\n",
       "75%    67.000000\n",
       "max    78.000000"
      ]
     },
     "execution_count": 8,
     "metadata": {},
     "output_type": "execute_result"
    }
   ],
   "source": [
    "df.describe()"
   ]
  },
  {
   "cell_type": "code",
   "execution_count": 9,
   "id": "fb564243",
   "metadata": {},
   "outputs": [
    {
     "data": {
      "text/html": [
       "<div>\n",
       "<style scoped>\n",
       "    .dataframe tbody tr th:only-of-type {\n",
       "        vertical-align: middle;\n",
       "    }\n",
       "\n",
       "    .dataframe tbody tr th {\n",
       "        vertical-align: top;\n",
       "    }\n",
       "\n",
       "    .dataframe thead th {\n",
       "        text-align: right;\n",
       "    }\n",
       "</style>\n",
       "<table border=\"1\" class=\"dataframe\">\n",
       "  <thead>\n",
       "    <tr style=\"text-align: right;\">\n",
       "      <th></th>\n",
       "      <th>Name</th>\n",
       "      <th>Marks</th>\n",
       "      <th>City</th>\n",
       "    </tr>\n",
       "  </thead>\n",
       "  <tbody>\n",
       "    <tr>\n",
       "      <th>8</th>\n",
       "      <td>Nishant</td>\n",
       "      <td>33</td>\n",
       "      <td>Surat</td>\n",
       "    </tr>\n",
       "    <tr>\n",
       "      <th>9</th>\n",
       "      <td>Renuka</td>\n",
       "      <td>67</td>\n",
       "      <td>Ahemdabad</td>\n",
       "    </tr>\n",
       "  </tbody>\n",
       "</table>\n",
       "</div>"
      ],
      "text/plain": [
       "      Name  Marks       City\n",
       "8  Nishant     33      Surat\n",
       "9   Renuka     67  Ahemdabad"
      ]
     },
     "execution_count": 9,
     "metadata": {},
     "output_type": "execute_result"
    }
   ],
   "source": [
    "df.tail(2)"
   ]
  },
  {
   "cell_type": "code",
   "execution_count": 49,
   "id": "1285bad5",
   "metadata": {},
   "outputs": [
    {
     "data": {
      "text/html": [
       "<div>\n",
       "<style scoped>\n",
       "    .dataframe tbody tr th:only-of-type {\n",
       "        vertical-align: middle;\n",
       "    }\n",
       "\n",
       "    .dataframe tbody tr th {\n",
       "        vertical-align: top;\n",
       "    }\n",
       "\n",
       "    .dataframe thead th {\n",
       "        text-align: right;\n",
       "    }\n",
       "</style>\n",
       "<table border=\"1\" class=\"dataframe\">\n",
       "  <thead>\n",
       "    <tr style=\"text-align: right;\">\n",
       "      <th></th>\n",
       "      <th>Name</th>\n",
       "      <th>Marks</th>\n",
       "      <th>City</th>\n",
       "    </tr>\n",
       "  </thead>\n",
       "  <tbody>\n",
       "    <tr>\n",
       "      <th>0</th>\n",
       "      <td>Sejal</td>\n",
       "      <td>50</td>\n",
       "      <td>Thane</td>\n",
       "    </tr>\n",
       "    <tr>\n",
       "      <th>1</th>\n",
       "      <td>Ojal</td>\n",
       "      <td>54</td>\n",
       "      <td>Jalgaon</td>\n",
       "    </tr>\n",
       "    <tr>\n",
       "      <th>2</th>\n",
       "      <td>Saachi</td>\n",
       "      <td>60</td>\n",
       "      <td>Karjat</td>\n",
       "    </tr>\n",
       "    <tr>\n",
       "      <th>3</th>\n",
       "      <td>Sakshi</td>\n",
       "      <td>45</td>\n",
       "      <td>Solapur</td>\n",
       "    </tr>\n",
       "    <tr>\n",
       "      <th>4</th>\n",
       "      <td>Darshi</td>\n",
       "      <td>69</td>\n",
       "      <td>Nashik</td>\n",
       "    </tr>\n",
       "    <tr>\n",
       "      <th>5</th>\n",
       "      <td>Prachi</td>\n",
       "      <td>78</td>\n",
       "      <td>Nagpur</td>\n",
       "    </tr>\n",
       "    <tr>\n",
       "      <th>6</th>\n",
       "      <td>Nikhil</td>\n",
       "      <td>67</td>\n",
       "      <td>Mumbai</td>\n",
       "    </tr>\n",
       "    <tr>\n",
       "      <th>7</th>\n",
       "      <td>Neha</td>\n",
       "      <td>54</td>\n",
       "      <td>Alibaugh</td>\n",
       "    </tr>\n",
       "    <tr>\n",
       "      <th>8</th>\n",
       "      <td>Nishant</td>\n",
       "      <td>33</td>\n",
       "      <td>Surat</td>\n",
       "    </tr>\n",
       "    <tr>\n",
       "      <th>9</th>\n",
       "      <td>Renuka</td>\n",
       "      <td>67</td>\n",
       "      <td>Ahemdabad</td>\n",
       "    </tr>\n",
       "  </tbody>\n",
       "</table>\n",
       "</div>"
      ],
      "text/plain": [
       "      Name  Marks       City\n",
       "0    Sejal     50      Thane\n",
       "1     Ojal     54    Jalgaon\n",
       "2   Saachi     60     Karjat\n",
       "3   Sakshi     45    Solapur\n",
       "4   Darshi     69     Nashik\n",
       "5   Prachi     78     Nagpur\n",
       "6   Nikhil     67     Mumbai\n",
       "7     Neha     54   Alibaugh\n",
       "8  Nishant     33      Surat\n",
       "9   Renuka     67  Ahemdabad"
      ]
     },
     "execution_count": 49,
     "metadata": {},
     "output_type": "execute_result"
    }
   ],
   "source": [
    "df.drop_duplicates()"
   ]
  },
  {
   "cell_type": "code",
   "execution_count": 51,
   "id": "d860fc00",
   "metadata": {},
   "outputs": [
    {
     "data": {
      "text/plain": [
       "Name        Darshi\n",
       "Marks           33\n",
       "City     Ahemdabad\n",
       "dtype: object"
      ]
     },
     "execution_count": 51,
     "metadata": {},
     "output_type": "execute_result"
    }
   ],
   "source": [
    "df.min()"
   ]
  },
  {
   "cell_type": "code",
   "execution_count": 52,
   "id": "06b601bd",
   "metadata": {},
   "outputs": [
    {
     "data": {
      "text/plain": [
       "<bound method NDFrame._add_numeric_operations.<locals>.max of       Name  Marks       City\n",
       "0    Sejal     50      Thane\n",
       "1     Ojal     54    Jalgaon\n",
       "2   Saachi     60     Karjat\n",
       "3   Sakshi     45    Solapur\n",
       "4   Darshi     69     Nashik\n",
       "5   Prachi     78     Nagpur\n",
       "6   Nikhil     67     Mumbai\n",
       "7     Neha     54   Alibaugh\n",
       "8  Nishant     33      Surat\n",
       "9   Renuka     67  Ahemdabad>"
      ]
     },
     "execution_count": 52,
     "metadata": {},
     "output_type": "execute_result"
    }
   ],
   "source": [
    "df.max"
   ]
  },
  {
   "cell_type": "code",
   "execution_count": 53,
   "id": "10825a18",
   "metadata": {},
   "outputs": [
    {
     "data": {
      "text/plain": [
       "<bound method NDFrame._add_numeric_operations.<locals>.mean of       Name  Marks       City\n",
       "0    Sejal     50      Thane\n",
       "1     Ojal     54    Jalgaon\n",
       "2   Saachi     60     Karjat\n",
       "3   Sakshi     45    Solapur\n",
       "4   Darshi     69     Nashik\n",
       "5   Prachi     78     Nagpur\n",
       "6   Nikhil     67     Mumbai\n",
       "7     Neha     54   Alibaugh\n",
       "8  Nishant     33      Surat\n",
       "9   Renuka     67  Ahemdabad>"
      ]
     },
     "execution_count": 53,
     "metadata": {},
     "output_type": "execute_result"
    }
   ],
   "source": [
    "df.mean"
   ]
  },
  {
   "cell_type": "code",
   "execution_count": 54,
   "id": "5470691f",
   "metadata": {},
   "outputs": [
    {
     "data": {
      "text/html": [
       "<div>\n",
       "<style scoped>\n",
       "    .dataframe tbody tr th:only-of-type {\n",
       "        vertical-align: middle;\n",
       "    }\n",
       "\n",
       "    .dataframe tbody tr th {\n",
       "        vertical-align: top;\n",
       "    }\n",
       "\n",
       "    .dataframe thead th {\n",
       "        text-align: right;\n",
       "    }\n",
       "</style>\n",
       "<table border=\"1\" class=\"dataframe\">\n",
       "  <thead>\n",
       "    <tr style=\"text-align: right;\">\n",
       "      <th></th>\n",
       "      <th>Name</th>\n",
       "      <th>Marks</th>\n",
       "      <th>City</th>\n",
       "    </tr>\n",
       "  </thead>\n",
       "  <tbody>\n",
       "    <tr>\n",
       "      <th>0</th>\n",
       "      <td>Sejal</td>\n",
       "      <td>50</td>\n",
       "      <td>Thane</td>\n",
       "    </tr>\n",
       "    <tr>\n",
       "      <th>1</th>\n",
       "      <td>Ojal</td>\n",
       "      <td>54</td>\n",
       "      <td>Jalgaon</td>\n",
       "    </tr>\n",
       "    <tr>\n",
       "      <th>2</th>\n",
       "      <td>Saachi</td>\n",
       "      <td>60</td>\n",
       "      <td>Karjat</td>\n",
       "    </tr>\n",
       "    <tr>\n",
       "      <th>3</th>\n",
       "      <td>Sakshi</td>\n",
       "      <td>45</td>\n",
       "      <td>Solapur</td>\n",
       "    </tr>\n",
       "    <tr>\n",
       "      <th>4</th>\n",
       "      <td>Darshi</td>\n",
       "      <td>69</td>\n",
       "      <td>Nashik</td>\n",
       "    </tr>\n",
       "  </tbody>\n",
       "</table>\n",
       "</div>"
      ],
      "text/plain": [
       "     Name  Marks     City\n",
       "0   Sejal     50    Thane\n",
       "1    Ojal     54  Jalgaon\n",
       "2  Saachi     60   Karjat\n",
       "3  Sakshi     45  Solapur\n",
       "4  Darshi     69   Nashik"
      ]
     },
     "execution_count": 54,
     "metadata": {},
     "output_type": "execute_result"
    }
   ],
   "source": [
    "df.head()"
   ]
  },
  {
   "cell_type": "code",
   "execution_count": 11,
   "id": "dbe65217",
   "metadata": {},
   "outputs": [
    {
     "data": {
      "text/html": [
       "<div>\n",
       "<style scoped>\n",
       "    .dataframe tbody tr th:only-of-type {\n",
       "        vertical-align: middle;\n",
       "    }\n",
       "\n",
       "    .dataframe tbody tr th {\n",
       "        vertical-align: top;\n",
       "    }\n",
       "\n",
       "    .dataframe thead th {\n",
       "        text-align: right;\n",
       "    }\n",
       "</style>\n",
       "<table border=\"1\" class=\"dataframe\">\n",
       "  <thead>\n",
       "    <tr style=\"text-align: right;\">\n",
       "      <th></th>\n",
       "      <th>Name</th>\n",
       "      <th>Marks</th>\n",
       "      <th>City</th>\n",
       "    </tr>\n",
       "  </thead>\n",
       "  <tbody>\n",
       "    <tr>\n",
       "      <th>0</th>\n",
       "      <td>Sejal</td>\n",
       "      <td>50</td>\n",
       "      <td>Thane</td>\n",
       "    </tr>\n",
       "    <tr>\n",
       "      <th>1</th>\n",
       "      <td>Ojal</td>\n",
       "      <td>54</td>\n",
       "      <td>Jalgaon</td>\n",
       "    </tr>\n",
       "    <tr>\n",
       "      <th>2</th>\n",
       "      <td>Saachi</td>\n",
       "      <td>60</td>\n",
       "      <td>Karjat</td>\n",
       "    </tr>\n",
       "  </tbody>\n",
       "</table>\n",
       "</div>"
      ],
      "text/plain": [
       "     Name  Marks     City\n",
       "0   Sejal     50    Thane\n",
       "1    Ojal     54  Jalgaon\n",
       "2  Saachi     60   Karjat"
      ]
     },
     "execution_count": 11,
     "metadata": {},
     "output_type": "execute_result"
    }
   ],
   "source": [
    "df.iloc[1:3]"
   ]
  },
  {
   "cell_type": "code",
   "execution_count": 58,
   "id": "46aabd1b",
   "metadata": {},
   "outputs": [
    {
     "data": {
      "text/plain": [
       "0      Sejal\n",
       "1       Ojal\n",
       "2     Saachi\n",
       "3     Sakshi\n",
       "4     Darshi\n",
       "5     Prachi\n",
       "6     Nikhil\n",
       "7       Neha\n",
       "8    Nishant\n",
       "9     Renuka\n",
       "Name: Name, dtype: object"
      ]
     },
     "execution_count": 58,
     "metadata": {},
     "output_type": "execute_result"
    }
   ],
   "source": [
    "df.Name"
   ]
  },
  {
   "cell_type": "code",
   "execution_count": 59,
   "id": "82ce61d9",
   "metadata": {},
   "outputs": [
    {
     "data": {
      "text/plain": [
       "0    50\n",
       "1    54\n",
       "2    60\n",
       "3    45\n",
       "4    69\n",
       "5    78\n",
       "6    67\n",
       "7    54\n",
       "8    33\n",
       "9    67\n",
       "Name: Marks, dtype: int64"
      ]
     },
     "execution_count": 59,
     "metadata": {},
     "output_type": "execute_result"
    }
   ],
   "source": [
    "df.Marks"
   ]
  },
  {
   "cell_type": "code",
   "execution_count": 60,
   "id": "537a68c2",
   "metadata": {},
   "outputs": [
    {
     "data": {
      "text/plain": [
       "0        Thane\n",
       "1      Jalgaon\n",
       "2       Karjat\n",
       "3      Solapur\n",
       "4       Nashik\n",
       "5       Nagpur\n",
       "6       Mumbai\n",
       "7     Alibaugh\n",
       "8        Surat\n",
       "9    Ahemdabad\n",
       "Name: City, dtype: object"
      ]
     },
     "execution_count": 60,
     "metadata": {},
     "output_type": "execute_result"
    }
   ],
   "source": [
    "df.City"
   ]
  },
  {
   "cell_type": "code",
   "execution_count": 61,
   "id": "d47492b3",
   "metadata": {},
   "outputs": [
    {
     "name": "stdout",
     "output_type": "stream",
     "text": [
      "Name     object\n",
      "Marks     int64\n",
      "City     object\n",
      "dtype: object\n"
     ]
    }
   ],
   "source": [
    "print(df.dtypes)"
   ]
  },
  {
   "cell_type": "code",
   "execution_count": 62,
   "id": "133d63e8",
   "metadata": {},
   "outputs": [
    {
     "data": {
      "text/plain": [
       "Name     10\n",
       "Marks    10\n",
       "City     10\n",
       "dtype: int64"
      ]
     },
     "execution_count": 62,
     "metadata": {},
     "output_type": "execute_result"
    }
   ],
   "source": [
    "df.count()"
   ]
  },
  {
   "cell_type": "code",
   "execution_count": 26,
   "id": "a770f957",
   "metadata": {},
   "outputs": [
    {
     "data": {
      "text/plain": [
       "['Name', 'Marks', 'City']"
      ]
     },
     "execution_count": 26,
     "metadata": {},
     "output_type": "execute_result"
    }
   ],
   "source": [
    "df.columns.tolist()"
   ]
  },
  {
   "cell_type": "code",
   "execution_count": 67,
   "id": "ec6425e2",
   "metadata": {},
   "outputs": [
    {
     "data": {
      "text/plain": [
       "<bound method DataFrame.sort_values of       Name  Marks       City\n",
       "0    Sejal     50      Thane\n",
       "1     Ojal     54    Jalgaon\n",
       "2   Saachi     60     Karjat\n",
       "3   Sakshi     45    Solapur\n",
       "4   Darshi     69     Nashik\n",
       "5   Prachi     78     Nagpur\n",
       "6   Nikhil     67     Mumbai\n",
       "7     Neha     54   Alibaugh\n",
       "8  Nishant     33      Surat\n",
       "9   Renuka     67  Ahemdabad>"
      ]
     },
     "execution_count": 67,
     "metadata": {},
     "output_type": "execute_result"
    }
   ],
   "source": [
    "df.sort_values"
   ]
  },
  {
   "cell_type": "code",
   "execution_count": 70,
   "id": "a2c32672",
   "metadata": {},
   "outputs": [
    {
     "data": {
      "text/plain": [
       "RangeIndex(start=0, stop=10, step=1)"
      ]
     },
     "execution_count": 70,
     "metadata": {},
     "output_type": "execute_result"
    }
   ],
   "source": [
    "df.index"
   ]
  },
  {
   "cell_type": "code",
   "execution_count": 71,
   "id": "43b70564",
   "metadata": {},
   "outputs": [
    {
     "data": {
      "text/plain": [
       "<PandasArray>\n",
       "[0, 1, 2, 3, 4, 5, 6, 7, 8, 9]\n",
       "Length: 10, dtype: int64"
      ]
     },
     "execution_count": 71,
     "metadata": {},
     "output_type": "execute_result"
    }
   ],
   "source": [
    "df.index.array"
   ]
  },
  {
   "cell_type": "code",
   "execution_count": 17,
   "id": "e01e81fe",
   "metadata": {},
   "outputs": [
    {
     "data": {
      "text/html": [
       "<div>\n",
       "<style scoped>\n",
       "    .dataframe tbody tr th:only-of-type {\n",
       "        vertical-align: middle;\n",
       "    }\n",
       "\n",
       "    .dataframe tbody tr th {\n",
       "        vertical-align: top;\n",
       "    }\n",
       "\n",
       "    .dataframe thead th {\n",
       "        text-align: right;\n",
       "    }\n",
       "</style>\n",
       "<table border=\"1\" class=\"dataframe\">\n",
       "  <thead>\n",
       "    <tr style=\"text-align: right;\">\n",
       "      <th></th>\n",
       "      <th>Name</th>\n",
       "      <th>City</th>\n",
       "    </tr>\n",
       "    <tr>\n",
       "      <th>Marks</th>\n",
       "      <th></th>\n",
       "      <th></th>\n",
       "    </tr>\n",
       "  </thead>\n",
       "  <tbody>\n",
       "    <tr>\n",
       "      <th>33</th>\n",
       "      <td>Nishant</td>\n",
       "      <td>Surat</td>\n",
       "    </tr>\n",
       "    <tr>\n",
       "      <th>45</th>\n",
       "      <td>Sakshi</td>\n",
       "      <td>Solapur</td>\n",
       "    </tr>\n",
       "    <tr>\n",
       "      <th>50</th>\n",
       "      <td>Sejal</td>\n",
       "      <td>Thane</td>\n",
       "    </tr>\n",
       "    <tr>\n",
       "      <th>54</th>\n",
       "      <td>OjalNeha</td>\n",
       "      <td>JalgaonAlibaugh</td>\n",
       "    </tr>\n",
       "    <tr>\n",
       "      <th>60</th>\n",
       "      <td>Saachi</td>\n",
       "      <td>Karjat</td>\n",
       "    </tr>\n",
       "    <tr>\n",
       "      <th>67</th>\n",
       "      <td>NikhilRenuka</td>\n",
       "      <td>MumbaiAhemdabad</td>\n",
       "    </tr>\n",
       "    <tr>\n",
       "      <th>69</th>\n",
       "      <td>Darshi</td>\n",
       "      <td>Nashik</td>\n",
       "    </tr>\n",
       "    <tr>\n",
       "      <th>78</th>\n",
       "      <td>Prachi</td>\n",
       "      <td>Nagpur</td>\n",
       "    </tr>\n",
       "  </tbody>\n",
       "</table>\n",
       "</div>"
      ],
      "text/plain": [
       "               Name             City\n",
       "Marks                               \n",
       "33          Nishant            Surat\n",
       "45           Sakshi          Solapur\n",
       "50            Sejal            Thane\n",
       "54         OjalNeha  JalgaonAlibaugh\n",
       "60           Saachi           Karjat\n",
       "67     NikhilRenuka  MumbaiAhemdabad\n",
       "69           Darshi           Nashik\n",
       "78           Prachi           Nagpur"
      ]
     },
     "execution_count": 17,
     "metadata": {},
     "output_type": "execute_result"
    }
   ],
   "source": [
    "df.groupby(by=[\"Marks\"]).sum()"
   ]
  },
  {
   "cell_type": "code",
   "execution_count": 33,
   "id": "4733c9df",
   "metadata": {},
   "outputs": [
    {
     "name": "stdout",
     "output_type": "stream",
     "text": [
      "<class 'pandas.core.frame.DataFrame'>\n",
      "RangeIndex: 10 entries, 0 to 9\n",
      "Data columns (total 3 columns):\n",
      " #   Column  Non-Null Count  Dtype \n",
      "---  ------  --------------  ----- \n",
      " 0   Name    10 non-null     object\n",
      " 1   Marks   10 non-null     int64 \n",
      " 2   City    10 non-null     object\n",
      "dtypes: int64(1), object(2)\n",
      "memory usage: 368.0+ bytes\n"
     ]
    }
   ],
   "source": [
    "df.info()"
   ]
  },
  {
   "cell_type": "code",
   "execution_count": 34,
   "id": "be49e0c7",
   "metadata": {},
   "outputs": [
    {
     "data": {
      "text/plain": [
       "Name     10\n",
       "Marks     8\n",
       "City     10\n",
       "dtype: int64"
      ]
     },
     "execution_count": 34,
     "metadata": {},
     "output_type": "execute_result"
    }
   ],
   "source": [
    "df.nunique()"
   ]
  },
  {
   "cell_type": "code",
   "execution_count": 35,
   "id": "0ef11f9c",
   "metadata": {},
   "outputs": [
    {
     "data": {
      "text/plain": [
       "54    2\n",
       "67    2\n",
       "50    1\n",
       "60    1\n",
       "45    1\n",
       "69    1\n",
       "78    1\n",
       "33    1\n",
       "Name: Marks, dtype: int64"
      ]
     },
     "execution_count": 35,
     "metadata": {},
     "output_type": "execute_result"
    }
   ],
   "source": [
    "df.Marks.value_counts()"
   ]
  },
  {
   "cell_type": "code",
   "execution_count": 36,
   "id": "d76929c9",
   "metadata": {},
   "outputs": [
    {
     "data": {
      "text/plain": [
       "Thane        1\n",
       "Jalgaon      1\n",
       "Karjat       1\n",
       "Solapur      1\n",
       "Nashik       1\n",
       "Nagpur       1\n",
       "Mumbai       1\n",
       "Alibaugh     1\n",
       "Surat        1\n",
       "Ahemdabad    1\n",
       "Name: City, dtype: int64"
      ]
     },
     "execution_count": 36,
     "metadata": {},
     "output_type": "execute_result"
    }
   ],
   "source": [
    "df.City.value_counts()"
   ]
  },
  {
   "cell_type": "code",
   "execution_count": 37,
   "id": "6a4df77c",
   "metadata": {},
   "outputs": [
    {
     "data": {
      "text/plain": [
       "Sejal      1\n",
       "Ojal       1\n",
       "Saachi     1\n",
       "Sakshi     1\n",
       "Darshi     1\n",
       "Prachi     1\n",
       "Nikhil     1\n",
       "Neha       1\n",
       "Nishant    1\n",
       "Renuka     1\n",
       "Name: Name, dtype: int64"
      ]
     },
     "execution_count": 37,
     "metadata": {},
     "output_type": "execute_result"
    }
   ],
   "source": [
    "df.Name.value_counts()"
   ]
  },
  {
   "cell_type": "code",
   "execution_count": 38,
   "id": "01aa176f",
   "metadata": {},
   "outputs": [
    {
     "data": {
      "text/plain": [
       "Index(['Name', 'Marks', 'City'], dtype='object')"
      ]
     },
     "execution_count": 38,
     "metadata": {},
     "output_type": "execute_result"
    }
   ],
   "source": [
    "df.columns"
   ]
  },
  {
   "cell_type": "code",
   "execution_count": 40,
   "id": "de9ee679",
   "metadata": {},
   "outputs": [
    {
     "data": {
      "text/plain": [
       "10"
      ]
     },
     "execution_count": 40,
     "metadata": {},
     "output_type": "execute_result"
    }
   ],
   "source": [
    "len(df)"
   ]
  },
  {
   "cell_type": "code",
   "execution_count": null,
   "id": "b0700849",
   "metadata": {},
   "outputs": [],
   "source": []
  }
 ],
 "metadata": {
  "kernelspec": {
   "display_name": "Python 3 (ipykernel)",
   "language": "python",
   "name": "python3"
  },
  "language_info": {
   "codemirror_mode": {
    "name": "ipython",
    "version": 3
   },
   "file_extension": ".py",
   "mimetype": "text/x-python",
   "name": "python",
   "nbconvert_exporter": "python",
   "pygments_lexer": "ipython3",
   "version": "3.11.0"
  }
 },
 "nbformat": 4,
 "nbformat_minor": 5
}
